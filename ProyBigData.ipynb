{
  "nbformat": 4,
  "nbformat_minor": 0,
  "metadata": {
    "colab": {
      "provenance": [],
      "authorship_tag": "ABX9TyMk4AuDeyIuPILesL+9mzeB",
      "include_colab_link": true
    },
    "kernelspec": {
      "name": "python3",
      "display_name": "Python 3"
    },
    "language_info": {
      "name": "python"
    }
  },
  "cells": [
    {
      "cell_type": "markdown",
      "metadata": {
        "id": "view-in-github",
        "colab_type": "text"
      },
      "source": [
        "<a href=\"https://colab.research.google.com/github/neysertg/Big-Data/blob/main/ProyBigData.ipynb\" target=\"_parent\"><img src=\"https://colab.research.google.com/assets/colab-badge.svg\" alt=\"Open In Colab\"/></a>"
      ]
    },
    {
      "cell_type": "code",
      "execution_count": null,
      "metadata": {
        "id": "OobSxdZuZZhs",
        "colab": {
          "base_uri": "https://localhost:8080/"
        },
        "outputId": "05129356-20af-4c51-e2bb-6dd43ae3b3ed"
      },
      "outputs": [
        {
          "output_type": "stream",
          "name": "stdout",
          "text": [
            "Collecting pyspark\n",
            "  Downloading pyspark-3.5.0.tar.gz (316.9 MB)\n",
            "\u001b[2K     \u001b[90m━━━━━━━━━━━━━━━━━━━━━━━━━━━━━━━━━━━━━━━━\u001b[0m \u001b[32m316.9/316.9 MB\u001b[0m \u001b[31m2.2 MB/s\u001b[0m eta \u001b[36m0:00:00\u001b[0m\n",
            "\u001b[?25h  Preparing metadata (setup.py) ... \u001b[?25l\u001b[?25hdone\n",
            "Requirement already satisfied: py4j in /usr/local/lib/python3.10/dist-packages (0.10.9.7)\n",
            "Building wheels for collected packages: pyspark\n",
            "  Building wheel for pyspark (setup.py) ... \u001b[?25l\u001b[?25hdone\n",
            "  Created wheel for pyspark: filename=pyspark-3.5.0-py2.py3-none-any.whl size=317425344 sha256=b961c30bd447240f02a5aebd8371878c749c395de8f5b09cb74eee75f5b90ee6\n",
            "  Stored in directory: /root/.cache/pip/wheels/41/4e/10/c2cf2467f71c678cfc8a6b9ac9241e5e44a01940da8fbb17fc\n",
            "Successfully built pyspark\n",
            "Installing collected packages: pyspark\n",
            "Successfully installed pyspark-3.5.0\n"
          ]
        }
      ],
      "source": [
        "#Se instala la librería de Spark en el entorno de colab\n",
        "!pip install pyspark py4j"
      ]
    },
    {
      "cell_type": "code",
      "source": [
        "#especializada en el manejo y análisis de estructuras de datos\n",
        "#Para trabajar en entorno de python y hacer la manipulación de datos\n",
        "import pandas as pd\n",
        "\n",
        "#Se importa la clase \"SparkSession\" de la biblioteca pyspark,sql que permitirá interactuar con Apche Spark\n",
        "# y se podrá hacer consultas SQL y creación de df\n",
        "from pyspark.sql import SparkSession\n",
        "\n",
        "#Para importar todas las funciones de pyspark\n",
        "from pyspark.sql.functions import*\n",
        "\n",
        "#conversión de una fecha a mes, año, día, etcetecete\n",
        "from pyspark.sql.functions import year, month, to_date\n",
        "\n",
        "#un autoincremente un a funcióin\n",
        "from pyspark.sql.functions import monotonically_increasing_id\n",
        "\n",
        "#convertir tipo de datos\n",
        "from pyspark.sql.types import IntegerType"
      ],
      "metadata": {
        "id": "kIBDLzo7hXTU"
      },
      "execution_count": null,
      "outputs": []
    },
    {
      "cell_type": "code",
      "source": [
        "nombre = SparkSession.builder.appName(\"proyecto_bigdata2.0\").getOrCreate()"
      ],
      "metadata": {
        "id": "Xmv1SIDykwbd"
      },
      "execution_count": null,
      "outputs": []
    },
    {
      "cell_type": "code",
      "source": [
        "#conectarse a google drive\n",
        "from google.colab import drive\n",
        "drive.mount('/content/drive')"
      ],
      "metadata": {
        "colab": {
          "base_uri": "https://localhost:8080/"
        },
        "id": "y7yny0_AlhDD",
        "outputId": "3b88f6b6-8afd-46eb-dd17-57f211fbcf9e"
      },
      "execution_count": null,
      "outputs": [
        {
          "output_type": "stream",
          "name": "stdout",
          "text": [
            "Mounted at /content/drive\n"
          ]
        }
      ]
    },
    {
      "cell_type": "code",
      "source": [
        "Excel = \"/content/drive/MyDrive/Proyecto-Big-Data/BIGDATA.xlsx\""
      ],
      "metadata": {
        "id": "numU9GW6nk3o"
      },
      "execution_count": null,
      "outputs": []
    },
    {
      "cell_type": "code",
      "source": [
        "# Sube el archivo Excel a Google Colab y luego carga los datos en un DataFrame\n",
        "#proy = nombre.read.format(\"csv\").option(\"header\", \"true\").load(\"drive/MyDrive/Proyecto-Big-Data/BIGDATA.csv\")"
      ],
      "metadata": {
        "id": "Q1-9iVmImNwc"
      },
      "execution_count": null,
      "outputs": []
    },
    {
      "cell_type": "code",
      "source": [
        "#utilizamos la libreía de pandas\n",
        "df_pandas = pd.read_excel(Excel)"
      ],
      "metadata": {
        "id": "Tf-vAKNwn43E"
      },
      "execution_count": null,
      "outputs": []
    },
    {
      "cell_type": "code",
      "source": [
        "#nombre = spark\n",
        "proy = nombre.createDataFrame(df_pandas)"
      ],
      "metadata": {
        "id": "dXgO0G9qoAwR"
      },
      "execution_count": null,
      "outputs": []
    },
    {
      "cell_type": "code",
      "source": [
        "proy.show(5)"
      ],
      "metadata": {
        "id": "24qlUHlytvBw",
        "colab": {
          "base_uri": "https://localhost:8080/"
        },
        "outputId": "bd14bdbb-ae5d-44f1-b7b4-e16f3931b8cb"
      },
      "execution_count": null,
      "outputs": [
        {
          "output_type": "stream",
          "name": "stdout",
          "text": [
            "+----------+--------------------+-----------+------------------+-----------+-----------+----------------+----------+----------------+-----------+-------------+-----------+----------------+--------------+-----------+----------------+--------+-----+-----+----+----------------------+\n",
            "|ProductoID|      NombreProducto|IDCategoria|         Categoria|IDProveedor|  Proveedor|FechaFabricacion|FechaVenta|FechaVencimiento|PrecioVenta|CantidadStock|NumeroSerie|CantidadVendidad|PesoProductokg|Iddimension|UbicacionAlmacen|    pais|Largo|Ancho|Alto|ComentariosAdicionales|\n",
            "+----------+--------------------+-----------+------------------+-----------+-----------+----------------+----------+----------------+-----------+-------------+-----------+----------------+--------------+-----------+----------------+--------+-----+-----+----+----------------------+\n",
            "|     20051|       Queso fundido|       5222|Lácteos procesados|       5555|     Nestlé|         01-2020|   03-2020|         01-2023|      97.58|           44|       2919|              18|            34|       7090|       San borja|    Perú|   28|   54|  70|                   NaN|\n",
            "|     20051|       Queso fundido|       5222|Lácteos procesados|       5555|     Nestlé|         01-2020|   03-2020|         01-2023|      97.58|           76|       2689|              35|            48|       8455|        Boquerón|Paraguay|   54|   62|  37|                   NaN|\n",
            "|     20051|       Queso fundido|       3222|Lácteos procesados|       3555|Kraft Heinz|         01-2020|   03-2020|         01-2023|      31.68|           28|       2493|              61|            41|       9884|       Las Tunas|    CUBA|   38|   43|  60|                   NaN|\n",
            "|     20451|Quesos de mediana...|       3222|Lácteos procesados|       4555|   Lactalis|         01-2020|   03-2020|         01-2023|      71.39|           49|       3358|              63|            34|       8466|       Paraguarí|Paraguay|   70|   80|  68|                   NaN|\n",
            "|     21151|Quesos de mediana...|       6222|Lácteos procesados|       6555|     Saputo|         01-2020|   03-2020|         01-2023|      53.61|           84|       1391|              76|            69|       8461|          Guairá|Paraguay|   86|   52|  82|                   NaN|\n",
            "+----------+--------------------+-----------+------------------+-----------+-----------+----------------+----------+----------------+-----------+-------------+-----------+----------------+--------------+-----------+----------------+--------+-----+-----+----+----------------------+\n",
            "only showing top 5 rows\n",
            "\n"
          ]
        }
      ]
    },
    {
      "cell_type": "code",
      "source": [
        "#se agrega un delimitador por si se la data del csv no está en columnnas\n",
        "#proy = nombre.read.format(\"csv\").option(\"header\", \"true\").option(\"delimiter\",\";\").load(\"drive/MyDrive/Proyecto-Big-Data/BIGDATA.csv\")"
      ],
      "metadata": {
        "id": "ppB7UDYwtrEs"
      },
      "execution_count": null,
      "outputs": []
    },
    {
      "cell_type": "code",
      "source": [
        "#proy.show(5)"
      ],
      "metadata": {
        "id": "OvHIkpj6nn2M"
      },
      "execution_count": null,
      "outputs": []
    },
    {
      "cell_type": "code",
      "source": [
        "proy.printSchema()"
      ],
      "metadata": {
        "colab": {
          "base_uri": "https://localhost:8080/"
        },
        "id": "AiWJm_BVJ9OY",
        "outputId": "cffca8a5-d946-42b9-b9f2-03a5363aa900"
      },
      "execution_count": null,
      "outputs": [
        {
          "output_type": "stream",
          "name": "stdout",
          "text": [
            "root\n",
            " |-- ProductoID: long (nullable = true)\n",
            " |-- NombreProducto: string (nullable = true)\n",
            " |-- IDCategoria: long (nullable = true)\n",
            " |-- Categoria: string (nullable = true)\n",
            " |-- IDProveedor: long (nullable = true)\n",
            " |-- Proveedor: string (nullable = true)\n",
            " |-- FechaFabricacion: string (nullable = true)\n",
            " |-- FechaVenta: string (nullable = true)\n",
            " |-- FechaVencimiento: string (nullable = true)\n",
            " |-- PrecioVenta: double (nullable = true)\n",
            " |-- CantidadStock: long (nullable = true)\n",
            " |-- NumeroSerie: long (nullable = true)\n",
            " |-- CantidadVendidad: long (nullable = true)\n",
            " |-- PesoProductokg: long (nullable = true)\n",
            " |-- Iddimension: long (nullable = true)\n",
            " |-- UbicacionAlmacen: string (nullable = true)\n",
            " |-- pais: string (nullable = true)\n",
            " |-- Largo: long (nullable = true)\n",
            " |-- Ancho: long (nullable = true)\n",
            " |-- Alto: long (nullable = true)\n",
            " |-- ComentariosAdicionales: double (nullable = true)\n",
            "\n"
          ]
        }
      ]
    },
    {
      "cell_type": "code",
      "source": [
        "proy = proy.withColumn(\"ProductoID\", col(\"ProductoID\").cast(\"integer\"))\\\n",
        "            .withColumn(\"IDCategoria\", col(\"IDCategoria\").cast(\"integer\"))\\\n",
        "            .withColumn(\"IDProveedor\", col(\"IDProveedor\").cast(\"integer\"))\\\n",
        "            .withColumn(\"CantidadStock\", col(\"CantidadStock\").cast(\"integer\"))\\\n",
        "            .withColumn(\"CantidadVendidad\", col(\"CantidadVendidad\").cast(\"integer\"))\\\n",
        "            .withColumn(\"PesoProductokg\", col(\"PesoProductokg\").cast(\"integer\"))\\\n",
        "            .withColumn(\"Iddimension\", col(\"Iddimension\").cast(\"integer\"))\\\n",
        "            .withColumn(\"Largo\", col(\"Largo\").cast(\"integer\"))\\\n",
        "            .withColumn(\"Ancho\", col(\"Ancho\").cast(\"integer\"))\\\n",
        "            .withColumn(\"Alto\", col(\"Alto\").cast(\"integer\"))\n"
      ],
      "metadata": {
        "id": "L6N05UUNKU5R"
      },
      "execution_count": null,
      "outputs": []
    },
    {
      "cell_type": "code",
      "source": [
        "proy.printSchema()"
      ],
      "metadata": {
        "colab": {
          "base_uri": "https://localhost:8080/"
        },
        "id": "YUyZU230Qjlq",
        "outputId": "1fe16eca-2d54-4e19-af6a-ab79d09914b4"
      },
      "execution_count": null,
      "outputs": [
        {
          "output_type": "stream",
          "name": "stdout",
          "text": [
            "root\n",
            " |-- ProductoID: integer (nullable = true)\n",
            " |-- NombreProducto: string (nullable = true)\n",
            " |-- IDCategoria: integer (nullable = true)\n",
            " |-- Categoria: string (nullable = true)\n",
            " |-- IDProveedor: integer (nullable = true)\n",
            " |-- Proveedor: string (nullable = true)\n",
            " |-- FechaFabricacion: string (nullable = true)\n",
            " |-- FechaVenta: string (nullable = true)\n",
            " |-- FechaVencimiento: string (nullable = true)\n",
            " |-- PrecioVenta: double (nullable = true)\n",
            " |-- CantidadStock: integer (nullable = true)\n",
            " |-- NumeroSerie: long (nullable = true)\n",
            " |-- CantidadVendidad: integer (nullable = true)\n",
            " |-- PesoProductokg: integer (nullable = true)\n",
            " |-- Iddimension: integer (nullable = true)\n",
            " |-- UbicacionAlmacen: string (nullable = true)\n",
            " |-- pais: string (nullable = true)\n",
            " |-- Largo: integer (nullable = true)\n",
            " |-- Ancho: integer (nullable = true)\n",
            " |-- Alto: integer (nullable = true)\n",
            " |-- ComentariosAdicionales: double (nullable = true)\n",
            "\n"
          ]
        }
      ]
    },
    {
      "cell_type": "code",
      "source": [
        "#SE VA A DIVIDIR NUESTRAS TABLAS A DIMENSIONES\n",
        "#Creamos la tabla DIM_PRODUCTOS\n",
        "dim_producto = proy.select(col(\"ProductoID\"), col(\"NombreProducto\")).distinct()\n",
        "#dim_producto = proy.select(col(\"ProductoID\"), col(\"NombreProducto\"),col(\"IDCategoria\"), col(\"IDProveedor\"),col(\"PesoProductoKg\"), col(\"IDalmacen\")).distinct()\n",
        "dim_producto.show()"
      ],
      "metadata": {
        "id": "TscF6vxTNoBZ",
        "colab": {
          "base_uri": "https://localhost:8080/"
        },
        "outputId": "ad238e87-8f91-4d2a-e0ab-b3ad63fb4031"
      },
      "execution_count": null,
      "outputs": [
        {
          "output_type": "stream",
          "name": "stdout",
          "text": [
            "+----------+--------------------+\n",
            "|ProductoID|      NombreProducto|\n",
            "+----------+--------------------+\n",
            "|     20451|Quesos de mediana...|\n",
            "|     22211|Leche en polvo en...|\n",
            "|     22222|      Dulce de leche|\n",
            "|     92260|          Caseinatos|\n",
            "|     29951|Quesos de baja hu...|\n",
            "|     22241|             Manteca|\n",
            "|     22212|Leche en polvo de...|\n",
            "|     22290|Postres lacteos y...|\n",
            "|     22130|               Suero|\n",
            "|     21151|Quesos de mediana...|\n",
            "|     22251|Quesos de alta hu...|\n",
            "|     20051|       Queso fundido|\n",
            "|     22022|    Leche condensada|\n",
            "|     22260|             Caseina|\n",
            "|     22120|               Crema|\n",
            "|     22230|               Yogur|\n",
            "+----------+--------------------+\n",
            "\n"
          ]
        }
      ]
    },
    {
      "cell_type": "code",
      "source": [
        "#DIM CATEGORIOA\n",
        "dim_categoria = proy.select(col(\"IDCategoria\"), col(\"Categoria\")).distinct()\n",
        "dim_categoria.show()"
      ],
      "metadata": {
        "colab": {
          "base_uri": "https://localhost:8080/"
        },
        "id": "nfuAOyhbPyKs",
        "outputId": "e7ed3c36-d723-4fba-eb3e-1c738b05ef1b"
      },
      "execution_count": null,
      "outputs": [
        {
          "output_type": "stream",
          "name": "stdout",
          "text": [
            "+-----------+--------------------+\n",
            "|IDCategoria|           Categoria|\n",
            "+-----------+--------------------+\n",
            "|       5222|  Lácteos procesados|\n",
            "|       5444|Ingredientes lácteos|\n",
            "|       5333|   Lácteos envasados|\n",
            "|       3333|   Lácteos envasados|\n",
            "|       6222|  Lácteos procesados|\n",
            "|       6444|Ingredientes lácteos|\n",
            "|       6333|   Lácteos envasados|\n",
            "|       2222|  Lácteos procesados|\n",
            "|       2444|Ingredientes lácteos|\n",
            "|       3222|  Lácteos procesados|\n",
            "|       4444|Ingredientes lácteos|\n",
            "|       3444|Ingredientes lácteos|\n",
            "|       2333|   Lácteos envasados|\n",
            "+-----------+--------------------+\n",
            "\n"
          ]
        }
      ]
    },
    {
      "cell_type": "code",
      "source": [
        "#DIM_PROVEEDOR\n",
        "dim_proveedor = proy.select(col(\"IDProveedor\"),col(\"Proveedor\")).distinct()\n",
        "dim_proveedor.show()"
      ],
      "metadata": {
        "colab": {
          "base_uri": "https://localhost:8080/"
        },
        "id": "bvNyJ4HJQym5",
        "outputId": "937480e9-3c99-4c15-ce58-cf04b7f1dcc7"
      },
      "execution_count": null,
      "outputs": [
        {
          "output_type": "stream",
          "name": "stdout",
          "text": [
            "+-----------+-----------+\n",
            "|IDProveedor|  Proveedor|\n",
            "+-----------+-----------+\n",
            "|       3555|Kraft Heinz|\n",
            "|       6555|     Saputo|\n",
            "|       5555|     Nestlé|\n",
            "|       4555|   Lactalis|\n",
            "|       2555|     Danone|\n",
            "+-----------+-----------+\n",
            "\n"
          ]
        }
      ]
    },
    {
      "cell_type": "code",
      "source": [
        "#DIM-DIMENSIONES de almacen, debería ser DIM_ALMACEN\n",
        "dim_dimensiones = proy.select(col(\"Iddimension\"), col(\"Largo\"),col(\"Ancho\"),col(\"Alto\"),col(\"UbicacionAlmacen\"),col(\"pais\")).distinct()\n",
        "dim_dimensiones.show()"
      ],
      "metadata": {
        "colab": {
          "base_uri": "https://localhost:8080/"
        },
        "id": "ZxOnT1rgWzto",
        "outputId": "255b9f19-6162-49ce-cef5-059455b324b2"
      },
      "execution_count": null,
      "outputs": [
        {
          "output_type": "stream",
          "name": "stdout",
          "text": [
            "+-----------+-----+-----+----+--------------------+---------+\n",
            "|Iddimension|Largo|Ancho|Alto|    UbicacionAlmacen|     pais|\n",
            "+-----------+-----+-----+----+--------------------+---------+\n",
            "|       7013|   78|   76|  40|            Misiones|Argentina|\n",
            "|       9877|   54|   71|  47|San José de las L...|     CUBA|\n",
            "|       7546|   67|   24|  42|               Tunja| Colombia|\n",
            "|       7066|   53|   82|  31|     Cercado de Lima|     Perú|\n",
            "|       7559|   64|   41|  47|         Santa Marta| Colombia|\n",
            "|       7098|   89|   54|  47| Santa María del Mar|     Perú|\n",
            "|       7550|   73|   79|  61|             Popayán| Colombia|\n",
            "|       7099|   53|   82|  31|          Santa Rosa|     Perú|\n",
            "|       8467|   76|   54|  55|    Presidente Hayes| Paraguay|\n",
            "|       7077|   35|   40|  23|          Los olivos|     Perú|\n",
            "|       7549|   85|   77|  63|               Yopal| Colombia|\n",
            "|       7556|   42|   23|  45|San José del Guav...| Colombia|\n",
            "|       7067|   24|   27|  28|          Chaclacayo|     Perú|\n",
            "|       7011|   84|   71|  32|            La Rioja|Argentina|\n",
            "|       9887|   75|   89|  38|    Santiago de Cuba|     CUBA|\n",
            "|       7543|   64|   38|  83|              Arauca| Colombia|\n",
            "|       7569|   75|   21|  22|      Puerto Carreño| Colombia|\n",
            "|       9881|   79|   44|  85|     Sancti Spíritus|     CUBA|\n",
            "|       9888|   66|   73|  61|          Guantánamo|     CUBA|\n",
            "|       7009|   72|   56|  33|               Jujuy|Argentina|\n",
            "+-----------+-----+-----+----+--------------------+---------+\n",
            "only showing top 20 rows\n",
            "\n"
          ]
        }
      ]
    },
    {
      "cell_type": "code",
      "source": [
        "# Convertir el formato a un formato reconocido por Spark\n",
        "#conv = proy.withColumn(\"FechaVenta\", to_date(proy[\"FechaVenta\"], \"MMM-yy\"))"
      ],
      "metadata": {
        "id": "QjQ5eyZWZaM0"
      },
      "execution_count": null,
      "outputs": []
    },
    {
      "cell_type": "code",
      "source": [
        "#Separar po Mes y aÑOA\n",
        "#fec = conv.withColumn(\"anio\", year(\"FechaVenta\"))\n",
        "#fec.show()"
      ],
      "metadata": {
        "id": "6-61xE4XXeI4"
      },
      "execution_count": null,
      "outputs": []
    },
    {
      "cell_type": "code",
      "source": [
        "# Convierte las columnas de string a tipo \"\"date\"\"\" para selceionar mes, anño, etrccec\n",
        "fechas_todas = [\"FechaVenta\", \"FechaFabricacion\", \"FechaVencimiento\"]\n",
        "for col_name in fechas_todas:\n",
        "    proy = proy.withColumn(col_name, to_date(proy[col_name], \"MM-yyyy\"))"
      ],
      "metadata": {
        "id": "FtPWwgY_NhEN"
      },
      "execution_count": null,
      "outputs": []
    },
    {
      "cell_type": "code",
      "source": [
        " #DIM_TIEMPO\n",
        " #la función concat_ws es para concatenar y lpad es para que sea de dos dpigitos\n",
        "dim_tiempo = proy.select(\n",
        "     concat_ws(\"\", year(\"FechaVenta\"), lpad(month(\"FechaVenta\"), 2, \"0\")).alias(\"IDFecha\").cast(\"integer\"),\n",
        "    col(\"FechaVenta\").alias(\"Fecha\"), month(col(\"FechaVenta\")).alias(\"Mes\"), year(col(\"FechaVenta\")).alias(\"Anio\")).distinct()\n",
        "dim_tiempo.show(5)"
      ],
      "metadata": {
        "colab": {
          "base_uri": "https://localhost:8080/"
        },
        "id": "i4tI3s-zHp2l",
        "outputId": "6fbb9eec-6bad-4e6d-fd13-fcb57590c485"
      },
      "execution_count": null,
      "outputs": [
        {
          "output_type": "stream",
          "name": "stdout",
          "text": [
            "+-------+----------+---+----+\n",
            "|IDFecha|     Fecha|Mes|Anio|\n",
            "+-------+----------+---+----+\n",
            "| 202005|2020-05-01|  5|2020|\n",
            "| 202006|2020-06-01|  6|2020|\n",
            "| 202104|2021-04-01|  4|2021|\n",
            "| 202103|2021-03-01|  3|2021|\n",
            "| 202106|2021-06-01|  6|2021|\n",
            "+-------+----------+---+----+\n",
            "only showing top 5 rows\n",
            "\n"
          ]
        }
      ]
    },
    {
      "cell_type": "code",
      "source": [
        "#Separar en Mes y Año\n",
        "#FecVenta= proy.withColumn(\"MesVenta\", substring(col(\"FechaVenta\"), 1, 2)) \\\n",
        "            # .withColumn(\"AnioVenta\", substring(col(\"FechaVenta\"), 4, 4))\n",
        "\n",
        "#FecVenta.show(5)"
      ],
      "metadata": {
        "id": "naamD3KWqG57"
      },
      "execution_count": null,
      "outputs": []
    },
    {
      "cell_type": "code",
      "source": [
        "#FACT TABLE\n",
        "fac_table = proy.withColumn(\"VentaID\",monotonically_increasing_id()+1) \\\n",
        "                .select(col(\"VentaID\"),col(\"ProductoID\"), col(\"IDCategoria\"), col(\"IDProveedor\"),\n",
        "                col(\"Iddimension\"), concat_ws(\"\",year(\"FechaVenta\"), lpad(month(\"FechaVenta\"),2,\"0\")).alias(\"IDFecha\"), col(\"PrecioVenta\"), col(\"CantidadVendidad\"), col(\"CantidadStock\"))\\\n",
        "                .distinct() \\\n",
        "                .orderBy(\"VentaID\")\n",
        "fac_table.show()\n",
        "#nombre.stop()"
      ],
      "metadata": {
        "id": "zvFNrUe8tobM",
        "colab": {
          "base_uri": "https://localhost:8080/"
        },
        "outputId": "0aa092b0-98f5-4b72-8c8e-49a301c7a526"
      },
      "execution_count": null,
      "outputs": [
        {
          "output_type": "stream",
          "name": "stdout",
          "text": [
            "+-------+----------+-----------+-----------+-----------+-------+-----------+----------------+-------------+\n",
            "|VentaID|ProductoID|IDCategoria|IDProveedor|Iddimension|IDFecha|PrecioVenta|CantidadVendidad|CantidadStock|\n",
            "+-------+----------+-----------+-----------+-----------+-------+-----------+----------------+-------------+\n",
            "|      1|     20051|       5222|       5555|       7090| 202003|      97.58|              18|           44|\n",
            "|      2|     20051|       5222|       5555|       8455| 202003|      97.58|              35|           76|\n",
            "|      3|     20051|       3222|       3555|       9884| 202003|      31.68|              61|           28|\n",
            "|      4|     20451|       3222|       4555|       8466| 202003|      71.39|              63|           49|\n",
            "|      5|     21151|       6222|       6555|       8461| 202003|      53.61|              76|           84|\n",
            "|      6|     21151|       2222|       2555|       9883| 202003|      35.72|              67|           40|\n",
            "|      7|     22022|       2333|       2555|       7068| 202003|      19.66|              18|           83|\n",
            "|      8|     22022|       3333|       4555|       7080| 202003|       33.7|              49|           26|\n",
            "|      9|     22120|       3222|       4555|       7079| 202003|      85.25|              31|           15|\n",
            "|     10|     22120|       5222|       5555|       7548| 202003|      27.68|              65|           79|\n",
            "|     11|     22120|       3222|       3555|       9885| 202003|      18.38|              68|           77|\n",
            "|     12|     22130|       6444|       6555|       7096| 202003|      13.26|              66|           31|\n",
            "|     13|     22130|       4444|       4555|       9881| 202003|      21.35|              76|           81|\n",
            "|     14|     22211|       5333|       5555|       7061| 202003|      55.64|              31|           27|\n",
            "|     15|     22211|       6333|       6555|       7095| 202003|      30.79|              68|           50|\n",
            "|     16|     22212|       5333|       5555|       7080| 202003|      74.27|              20|           12|\n",
            "|     17|     22212|       2333|       2555|       7555| 202003|      17.76|              48|           69|\n",
            "|     18|     22212|       3333|       4555|       9879| 202003|      28.49|              49|           53|\n",
            "|     19|     22222|       3333|       3555|       7015| 202003|      20.26|              32|           53|\n",
            "|     20|     22222|       3333|       3555|       7005| 202003|      20.26|              19|           76|\n",
            "+-------+----------+-----------+-----------+-----------+-------+-----------+----------------+-------------+\n",
            "only showing top 20 rows\n",
            "\n"
          ]
        }
      ]
    },
    {
      "cell_type": "code",
      "source": [
        "fact_table = fac_table.join(dim_producto, \"ProductoID\", \"inner\") \\\n",
        "    .join(dim_proveedor, \"IDProveedor\", \"inner\") \\\n",
        "    .join(dim_categoria, \"IDCategoria\", \"inner\") \\\n",
        "    .join(dim_dimensiones, \"Iddimension\", \"inner\") \\\n",
        "    .join(dim_tiempo, \"IDFecha\", \"inner\")\n"
      ],
      "metadata": {
        "id": "hyz1BhGaN614"
      },
      "execution_count": null,
      "outputs": []
    },
    {
      "cell_type": "code",
      "source": [
        "fact_table = fac_table.dropDuplicates()\n"
      ],
      "metadata": {
        "id": "KCHgH65_MBcm"
      },
      "execution_count": null,
      "outputs": []
    },
    {
      "cell_type": "code",
      "source": [
        "fact_table.show(10)"
      ],
      "metadata": {
        "colab": {
          "base_uri": "https://localhost:8080/"
        },
        "id": "930SsvzOHDRs",
        "outputId": "2da3ee99-84e6-4ca1-d627-40db0ae5cd93"
      },
      "execution_count": null,
      "outputs": [
        {
          "output_type": "stream",
          "name": "stdout",
          "text": [
            "+-------+----------+-----------+-----------+-----------+-------+-----------+----------------+-------------+\n",
            "|VentaID|ProductoID|IDCategoria|IDProveedor|Iddimension|IDFecha|PrecioVenta|CantidadVendidad|CantidadStock|\n",
            "+-------+----------+-----------+-----------+-----------+-------+-----------+----------------+-------------+\n",
            "|     58|     22212|       5333|       5555|       7096| 202103|      74.27|              15|           19|\n",
            "|    209|     22260|       2444|       2555|       8458| 202004|       17.0|              22|           66|\n",
            "|    441|     22211|       3333|       3555|       8452| 202105|      35.74|              56|           80|\n",
            "|    616|     22230|       3333|       3555|       8452| 202305|      20.86|              48|           72|\n",
            "|    771|     22290|       6333|       6555|       7080| 202106|      41.88|              60|           62|\n",
            "|   1008|     29951|       6222|       6555|       7001| 202007|      41.24|              67|           22|\n",
            "|    779|     22290|       3333|       4555|       9875| 202106|      36.24|              53|           65|\n",
            "|    787|     92260|       2444|       2555|       7083| 202106|       16.0|              13|           11|\n",
            "|    970|     22212|       3333|       4555|       7554| 202007|      28.49|              26|           40|\n",
            "|    978|     22222|       2333|       2555|       9880| 202007|      26.32|              16|           31|\n",
            "+-------+----------+-----------+-----------+-----------+-------+-----------+----------------+-------------+\n",
            "only showing top 10 rows\n",
            "\n"
          ]
        }
      ]
    },
    {
      "cell_type": "code",
      "source": [
        "#Utilizamos la función enableHiveSupport() que nos permite btrabajar en el entorno HIVE\n",
        "nombreHive = SparkSession.builder.appName(\"DIMENSIONES-HIVE\").enableHiveSupport().getOrCreate()"
      ],
      "metadata": {
        "id": "5tIxTFubx7QI"
      },
      "execution_count": null,
      "outputs": []
    },
    {
      "cell_type": "code",
      "source": [
        "\n",
        "#se verifica si ya hay tablas en el entorno HIVEE\n",
        "nombreHive.sql(\"SHOW DATABASES\").show()"
      ],
      "metadata": {
        "id": "cAHza55nyD1L",
        "colab": {
          "base_uri": "https://localhost:8080/"
        },
        "outputId": "bf0a3ca4-6991-4314-edd1-04e5b903cc33"
      },
      "execution_count": null,
      "outputs": [
        {
          "output_type": "stream",
          "name": "stdout",
          "text": [
            "+---------+\n",
            "|namespace|\n",
            "+---------+\n",
            "|  default|\n",
            "+---------+\n",
            "\n"
          ]
        }
      ]
    },
    {
      "cell_type": "code",
      "source": [
        "#creamos la base de datos para almacenar nuestras dim\n",
        "nombreHive.sql(\"DROP DATABASE IF EXISTS dimensiones CASCADE;\")\n",
        "nombreHive.sql(\"create database dimensiones\")"
      ],
      "metadata": {
        "id": "9ZntTvaC-gN6",
        "colab": {
          "base_uri": "https://localhost:8080/"
        },
        "outputId": "9ae6ddb3-a600-448d-b058-e8989c8dca4c"
      },
      "execution_count": null,
      "outputs": [
        {
          "output_type": "execute_result",
          "data": {
            "text/plain": [
              "DataFrame[]"
            ]
          },
          "metadata": {},
          "execution_count": 44
        }
      ]
    },
    {
      "cell_type": "code",
      "source": [
        "## GUARDAMOS EN LA BASE CARGADA LAS DIMENSIONMES\n",
        "dim_producto.write.saveAsTable(\"dimensiones.dim_producto\")\n",
        "dim_categoria.write.saveAsTable(\"dimensiones.dim_categoria\")\n",
        "dim_proveedor.write.saveAsTable(\"dimensiones.dim_proveedor\")\n",
        "dim_dimensiones.write.saveAsTable(\"dimensiones.dim_dimensiones\")\n",
        "fact_table.write.saveAsTable(\"dimensiones.fact_table\")\n",
        "dim_tiempo.write.saveAsTable(\"dimensiones.dim_tiempo\")"
      ],
      "metadata": {
        "id": "OoIJgd7278Vw"
      },
      "execution_count": null,
      "outputs": []
    },
    {
      "cell_type": "code",
      "source": [
        "fact_table.show()"
      ],
      "metadata": {
        "id": "myqxPZRY8mR_",
        "colab": {
          "base_uri": "https://localhost:8080/"
        },
        "outputId": "f910077b-055d-4681-d8d8-485428ecf6ae"
      },
      "execution_count": null,
      "outputs": [
        {
          "output_type": "stream",
          "name": "stdout",
          "text": [
            "+-------+----------+-----------+-----------+-----------+-------+-----------+----------------+-------------+\n",
            "|VentaID|ProductoID|IDCategoria|IDProveedor|Iddimension|IDFecha|PrecioVenta|CantidadVendidad|CantidadStock|\n",
            "+-------+----------+-----------+-----------+-----------+-------+-----------+----------------+-------------+\n",
            "|     58|     22212|       5333|       5555|       7096| 202103|      74.27|              15|           19|\n",
            "|    209|     22260|       2444|       2555|       8458| 202004|       17.0|              22|           66|\n",
            "|    441|     22211|       3333|       3555|       8452| 202105|      35.74|              56|           80|\n",
            "|    616|     22230|       3333|       3555|       8452| 202305|      20.86|              48|           72|\n",
            "|    771|     22290|       6333|       6555|       7080| 202106|      41.88|              60|           62|\n",
            "|   1008|     29951|       6222|       6555|       7001| 202007|      41.24|              67|           22|\n",
            "|    779|     22290|       3333|       4555|       9875| 202106|      36.24|              53|           65|\n",
            "|    787|     92260|       2444|       2555|       7083| 202106|       16.0|              13|           11|\n",
            "|    970|     22212|       3333|       4555|       7554| 202007|      28.49|              26|           40|\n",
            "|    978|     22222|       2333|       2555|       9880| 202007|      26.32|              16|           31|\n",
            "|      6|     21151|       2222|       2555|       9883| 202003|      35.72|              67|           40|\n",
            "|    218|     20051|       2222|       2555|       7079| 202104|      43.46|              13|           18|\n",
            "|    303|     29951|       2222|       2555|       7098| 202304|      34.99|              56|           59|\n",
            "|    515|     22130|       4444|       4555|       7546| 202205|      21.35|              11|           13|\n",
            "|    699|     22290|       2333|       2555|       7092| 202006|      31.25|              52|           90|\n",
            "|    777|     22290|       3333|       3555|       9881| 202106|      26.66|              34|           69|\n",
            "|    980|     22230|       3333|       3555|       7075| 202007|      20.86|              29|           22|\n",
            "|    643|     29951|       5222|       5555|       8455| 202305|      80.47|              15|           40|\n",
            "|    398|     20051|       3222|       3555|       8464| 202105|      31.68|              43|           71|\n",
            "|    521|     22211|       6333|       6555|       7080| 202205|      30.79|              55|           27|\n",
            "+-------+----------+-----------+-----------+-----------+-------+-----------+----------------+-------------+\n",
            "only showing top 20 rows\n",
            "\n"
          ]
        }
      ]
    },
    {
      "cell_type": "code",
      "source": [
        "dim_producto.toPandas().to_csv(\"/content/drive/MyDrive/Proyecto-Big-Data/dim_producto.csv\", index=False)\n",
        "dim_categoria.toPandas().to_csv(\"/content/drive/MyDrive/Proyecto-Big-Data/dim_categoria.csv\", index=False)\n",
        "dim_proveedor.toPandas().to_csv(\"/content/drive/MyDrive/Proyecto-Big-Data/dim_proveedor.csv\", index=False)\n",
        "dim_dimensiones.toPandas().to_csv(\"/content/drive/MyDrive/Proyecto-Big-Data/dim_dimensiones.csv\", index=False)\n",
        "fact_table.toPandas().to_csv(\"/content/drive/MyDrive/Proyecto-Big-Data/fact_table.csv\", index=False)\n",
        "dim_tiempo.toPandas().to_csv(\"/content/drive/MyDrive/Proyecto-Big-Data/dim_tiempo.csv\", index=False)\n"
      ],
      "metadata": {
        "id": "axn-7oxyquCZ"
      },
      "execution_count": null,
      "outputs": []
    }
  ]
}